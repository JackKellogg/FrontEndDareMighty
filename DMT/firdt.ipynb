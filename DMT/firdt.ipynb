{
 "cells": [
  {
   "cell_type": "code",
   "execution_count": null,
   "metadata": {
    "collapsed": true
   },
   "outputs": [],
   "source": [
    "import pandas as pd\n",
    "\n",
    "lease_data = pd.read_csv(\"datasets/Lease.csv\", sep=\",\")\n",
    "availability_data = pd.read_csv(\"datasets/Availability.csv\", sep=\",\")\n",
    "property_data = pd.read_csv(\"datasets/Property.csv\", sep=\",\")\n",
    "sales_data = pd.read_csv(\"datasets/Sales.csv\", sep=\",\")"
   ]
  }
 ],
 "metadata": {
  "kernelspec": {
   "display_name": "Python 2",
   "language": "python",
   "name": "python2"
  },
  "language_info": {
   "codemirror_mode": {
    "name": "ipython",
    "version": 2
   },
   "file_extension": ".py",
   "mimetype": "text/x-python",
   "name": "python",
   "nbconvert_exporter": "python",
   "pygments_lexer": "ipython2",
   "version": "2.7.6"
  }
 },
 "nbformat": 4,
 "nbformat_minor": 0
}
